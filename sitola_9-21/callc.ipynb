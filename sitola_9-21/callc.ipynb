{
 "cells": [
  {
   "cell_type": "markdown",
   "id": "ca5872bc",
   "metadata": {
    "slideshow": {
     "slide_type": "slide"
    }
   },
   "source": [
    "# Calibrating machine-learning models to increase the prediction accuracy of specific experiments\n",
    "### Aleš Křenek\n",
    "#### Sitola, 22.9.2021"
   ]
  },
  {
   "cell_type": "markdown",
   "id": "8c1f9ab4",
   "metadata": {
    "slideshow": {
     "slide_type": "slide"
    }
   },
   "source": [
    "## Two-slide quick tour to LC/MS\n",
    "<img src=\"lc.jpg\" style=\"width: 15vw;\" align=\"right\"/>\n",
    "\n",
    "- Analyzed sample -- mixture of unknown compounds\n",
    "- Diluted in some liquid (MeOH) and pushed through *chromatographic column*\n",
    "- Complex interaction among sample, liquid, and column surface\n",
    "- Results in separation of compounds in varying *retention time* (RT)"
   ]
  },
  {
   "cell_type": "markdown",
   "id": "4db2b33c",
   "metadata": {
    "slideshow": {
     "slide_type": "slide"
    }
   },
   "source": [
    "## Two-slide quick tour to LC/MS\n",
    "<img src=\"masspec.png\" style=\"width: 25vw;\" align=\"right\"/>\n",
    "\n",
    "- Separated compounds fed to mass spectrometer\n",
    "- Results in 2D spectrum\n",
    "- Software signal processing and library search magic\n",
    "- List of candidate compounds at each point in time\n",
    "- *Too many false positives*"
   ]
  },
  {
   "cell_type": "markdown",
   "id": "4d29bdff",
   "metadata": {
    "slideshow": {
     "slide_type": "slide"
    }
   },
   "source": [
    "## RT prediction\n",
    "\n",
    "### Use for disambiguation\n",
    "- MS says that the spectrum at time $t$ can be either compound $A$ or $B$\n",
    "- If we knew expected times for $A$ and $B$, and they were different, we could pick the right one\n",
    "\n",
    "### Modeling chromatography\n",
    "- Complex process, difficult to model in traditional way\n",
    "- Suitable for machine learning\n",
    "- Reference dataset (known times for a set of compounds) is required\n"
   ]
  },
  {
   "cell_type": "code",
   "execution_count": null,
   "id": "35ca6e35",
   "metadata": {
    "slideshow": {
     "slide_type": "slide"
    }
   },
   "outputs": [],
   "source": [
    "# just bookkeeping\n",
    "featf='features.csv'\n",
    "import pandas as pd\n",
    "import pickle\n",
    "import matplotlib.pyplot as plt\n",
    "import numpy as np\n",
    "from os import getcwd,chdir\n",
    "from moldescriptors import get_features\n",
    "from main import make_preds\n",
    "datadir='/data'\n",
    "prefix='/opt/callc/rt/'\n",
    "modlib=prefix + 'mods_l1/'\n",
    "models=['bayesianregr','lasso']\n",
    "featn=[x.strip() for x in open(prefix+\"features/selected_features.txt\").readlines()]\n",
    "featn.remove('system')\n",
    "with open('feats_lib.csv','w'): pass"
   ]
  },
  {
   "cell_type": "markdown",
   "id": "b319062f",
   "metadata": {
    "slideshow": {
     "slide_type": "slide"
    }
   },
   "source": [
    "## Train a fresh model with our data"
   ]
  },
  {
   "cell_type": "code",
   "execution_count": null,
   "id": "919092b2",
   "metadata": {},
   "outputs": [],
   "source": [
    "from sklearn.linear_model import ARDRegression\n",
    "from scipy.stats import randint\n",
    "from scipy.stats import uniform\n",
    "import random\n",
    "random.seed(815)\n",
    "model = ARDRegression()\n",
    "params = {\n",
    "        \"n_iter\" : randint(100,1500),\n",
    "        \"alpha_1\" : uniform(1e-10,1e-2),\n",
    "        \"lambda_1\" : uniform(1e-10,1e-2),\n",
    "        \"threshold_lambda\" : randint(1,10000),\n",
    "    }"
   ]
  },
  {
   "cell_type": "markdown",
   "id": "90fabd93",
   "metadata": {
    "slideshow": {
     "slide_type": "slide"
    }
   },
   "source": [
    "## Formulae and features\n",
    "- SMILES (Simplified Molecular Input Line Entry System) format: CN1CCCC1C2=CN=CC=C2\n",
    "<img src=\"nikotine.png\" style=\"width: 20vw;\"/>\n",
    "- Standardized ways to calculate chemical *features* from the formula"
   ]
  },
  {
   "cell_type": "code",
   "execution_count": null,
   "id": "e22970d8",
   "metadata": {},
   "outputs": [],
   "source": [
    "get_features(infile_name='nikotine.tsv',outfile_name=featf,id_index=0,mol_index=1,time_index=2)\n",
    "pd.read_csv(featf)"
   ]
  },
  {
   "cell_type": "markdown",
   "id": "9c49bbff",
   "metadata": {
    "slideshow": {
     "slide_type": "slide"
    }
   },
   "source": [
    "### Train the model on our reference dataset"
   ]
  },
  {
   "cell_type": "code",
   "execution_count": null,
   "id": "ba1d2272",
   "metadata": {
    "slideshow": {
     "slide_type": "-"
    }
   },
   "outputs": [],
   "source": [
    "get_features(infile_name='train_positive.tsv',outfile_name=featf,id_index=3,mol_index=0,time_index=2)\n",
    "features = pd.read_csv(featf)[featn]\n",
    "features.shape"
   ]
  },
  {
   "cell_type": "code",
   "execution_count": null,
   "id": "76e14a26",
   "metadata": {
    "slideshow": {
     "slide_type": "-"
    }
   },
   "outputs": [],
   "source": [
    "from random import shuffle\n",
    "testsize=int(len(features.index)*.2)\n",
    "index=list(range(len(features.index)))\n",
    "shuffle(index)\n",
    "test=features.iloc[index[:testsize]]\n",
    "train=features.iloc[index[testsize:]]"
   ]
  },
  {
   "cell_type": "code",
   "execution_count": null,
   "id": "203c1dcc",
   "metadata": {
    "slideshow": {
     "slide_type": "slide"
    }
   },
   "outputs": [],
   "source": [
    "from sklearn.model_selection import KFold\n",
    "from trainl1 import train_model_l1\n",
    "cv = list(KFold(n_splits=10,shuffle=True).split(train.index))\n",
    "model,train_preds = train_model_l1(train.drop([\"time\",\"IDENTIFIER\",\"system\"],axis=1, errors=\"ignore\"),\n",
    "                                             train[\"time\"],params,model,\n",
    "                                             cv = cv,n_params=20,\n",
    "                                             n_jobs=4)"
   ]
  },
  {
   "cell_type": "code",
   "execution_count": null,
   "id": "fa3430d4",
   "metadata": {},
   "outputs": [],
   "source": [
    "def rtscatter(rt,mod):\n",
    "    plt.figure(figsize=(8,6))\n",
    "    plt.plot([200,1200],[200,1200],color='grey')\n",
    "    plt.scatter(rt,mod)\n",
    "    plt.show()"
   ]
  },
  {
   "cell_type": "code",
   "execution_count": null,
   "id": "4db6e0ca",
   "metadata": {
    "slideshow": {
     "slide_type": "slide"
    }
   },
   "outputs": [],
   "source": [
    "rtscatter(train['time'],train_preds)"
   ]
  },
  {
   "cell_type": "markdown",
   "id": "63e0bfeb",
   "metadata": {
    "slideshow": {
     "slide_type": "slide"
    }
   },
   "source": [
    "### Apply on independent test set"
   ]
  },
  {
   "cell_type": "code",
   "execution_count": null,
   "id": "d4c6c503",
   "metadata": {
    "slideshow": {
     "slide_type": "-"
    }
   },
   "outputs": [],
   "source": [
    "test_preds = model.predict(test.drop([\"time\",\"IDENTIFIER\"],axis=1))"
   ]
  },
  {
   "cell_type": "code",
   "execution_count": null,
   "id": "664ce2a3",
   "metadata": {},
   "outputs": [],
   "source": [
    "rtscatter(test['time'],test_preds)"
   ]
  },
  {
   "cell_type": "markdown",
   "id": "5d9a39f3",
   "metadata": {
    "slideshow": {
     "slide_type": "slide"
    }
   },
   "source": [
    "### How good is the model?\n",
    "* Plot the graph and assess intuitively -- \"chi by eye\"\n",
    "* Or _Coeffitient of determination_ $R^2$\n",
    "* Intuitively: How much variance in the data the model explains?\n",
    "  * $R^2 = 1$ -- the model is perfect\n",
    "  * $R^2 = 0$ -- the model is not better than expecting average value of $y$\n",
    "  * $R^2 < 0$ or $R^2 > 1$ -- the model is unusable at all"
   ]
  },
  {
   "cell_type": "code",
   "execution_count": null,
   "id": "d680cfda",
   "metadata": {
    "slideshow": {
     "slide_type": "slide"
    }
   },
   "outputs": [],
   "source": [
    "def r2(measured,model):\n",
    "    mean = np.average(measured)\n",
    "    yres = measured-mean\n",
    "    modres = model-measured\n",
    "    ss_tot = np.sum(yres*yres)\n",
    "    ss_res = np.sum(modres*modres)\n",
    "    return 1. - ss_res/ss_tot"
   ]
  },
  {
   "cell_type": "code",
   "execution_count": null,
   "id": "be72e803",
   "metadata": {},
   "outputs": [],
   "source": [
    "r2(np.array(test['time']),test_preds)"
   ]
  },
  {
   "cell_type": "markdown",
   "id": "5d846917",
   "metadata": {},
   "source": [
    "- Not entirely bad (the model works, somehow)\n",
    "- Not overimpressive either\n",
    "- **Too small reference dataset to build in-house model**"
   ]
  },
  {
   "cell_type": "markdown",
   "id": "f0e05d6d",
   "metadata": {
    "slideshow": {
     "slide_type": "slide"
    }
   },
   "source": [
    "## Apply available models on our data\n",
    "- Someone else more lucky (more rich) could have measured bigger datasets\n",
    "- We can try reusing their models"
   ]
  },
  {
   "cell_type": "code",
   "execution_count": null,
   "id": "b4bfa3d8",
   "metadata": {},
   "outputs": [],
   "source": [
    "def apply_model(X,modname):\n",
    "    modf=modlib + modname + '42.pickle'\n",
    "    with open(modf,\"rb\") as m:\n",
    "        model = pickle.load(m,encoding='latin1')\n",
    "    preds=model.predict(X)\n",
    "    return preds"
   ]
  },
  {
   "cell_type": "code",
   "execution_count": null,
   "id": "ac81ea26",
   "metadata": {},
   "outputs": [],
   "source": [
    "dataset='MTBLS20'\n",
    "preds={}\n",
    "for m in models:\n",
    "    preds[m] = apply_model(features.drop(['IDENTIFIER','time'],axis=1),modname=dataset+'_'+m)"
   ]
  },
  {
   "cell_type": "code",
   "execution_count": null,
   "id": "eb6f1b5c",
   "metadata": {
    "slideshow": {
     "slide_type": "slide"
    }
   },
   "outputs": [],
   "source": [
    "bayes_good=(preds['bayesianregr'] < 1200) # get rid of apparent outliers\n",
    "rtscatter(np.array(features['time'])[bayes_good],preds['bayesianregr'][bayes_good])"
   ]
  },
  {
   "cell_type": "code",
   "execution_count": null,
   "id": "710f6932",
   "metadata": {},
   "outputs": [],
   "source": [
    "r2(np.array(features['time'])[bayes_good],preds['bayesianregr'][bayes_good])"
   ]
  },
  {
   "cell_type": "code",
   "execution_count": null,
   "id": "dcc3c80b",
   "metadata": {
    "slideshow": {
     "slide_type": "slide"
    }
   },
   "outputs": [],
   "source": [
    "lasso_good=(np.abs(preds['lasso']) < 1000)\n",
    "rtscatter(np.array(features['time'])[lasso_good],preds['lasso'][lasso_good])"
   ]
  },
  {
   "cell_type": "code",
   "execution_count": null,
   "id": "6ea68247",
   "metadata": {},
   "outputs": [],
   "source": [
    "r2(np.array(features['time'])[lasso_good],preds['lasso'][lasso_good])"
   ]
  },
  {
   "cell_type": "markdown",
   "id": "dadcf585",
   "metadata": {},
   "source": [
    "- Models built on other lab datasets are unusable in general\n",
    "- **Every chromatographic column is unique**"
   ]
  },
  {
   "cell_type": "markdown",
   "id": "484dbdc3",
   "metadata": {
    "slideshow": {
     "slide_type": "slide"
    }
   },
   "source": [
    "## CALLC main ideas\n",
    "- *Callibrated All Liquid Chromatography* \n",
    "- Gather $N$ existing datasets: known compounds and RT for a specific laboratory setup\n",
    "- Train $M$ ML models on them independently, yielding $M\\times N$ models altogether\n",
    "- Measure a representative small *callibration* dataset in your lab\n",
    "- Train the same ML models on the callibration dataset\n",
    "- Apply all $M\\times (N+1)$ models callibration dataset\n",
    "- Find the best *GAM (generalized additive model)* curves to transform the models outputs\n",
    "- Pick the right set of models and their linear combination with *elastic net*"
   ]
  },
  {
   "cell_type": "markdown",
   "id": "ff8ee1f6",
   "metadata": {
    "slideshow": {
     "slide_type": "slide"
    }
   },
   "source": [
    "## Employ the big beast"
   ]
  },
  {
   "cell_type": "code",
   "execution_count": null,
   "id": "70a9abf1",
   "metadata": {},
   "outputs": [],
   "source": [
    "chdir(datadir)\n",
    "train.to_csv('reference.csv')\n",
    "test.to_csv('test.csv')\n",
    "chdir(prefix)\n",
    "make_preds(reference_infile=datadir + '/reference.csv',pred_infile=datadir + '/test.csv',\n",
    "           outfile=datadir+'/test_preds')"
   ]
  },
  {
   "cell_type": "code",
   "execution_count": null,
   "id": "d1838642",
   "metadata": {},
   "outputs": [],
   "source": [
    "chdir(datadir)\n",
    "big_pred=pd.read_csv('test_preds.csv')"
   ]
  },
  {
   "cell_type": "code",
   "execution_count": null,
   "id": "a765dbf0",
   "metadata": {
    "slideshow": {
     "slide_type": "slide"
    }
   },
   "outputs": [],
   "source": [
    "plt.figure(figsize=(10,8))\n",
    "plt.plot([200,1000],[200,1000],label='diagonal',color='grey')\n",
    "plt.scatter(test['time'],big_pred['predictions'],label='full model')\n",
    "plt.scatter(test['time'],test_preds,label='in house only')\n",
    "plt.legend()\n",
    "plt.show()"
   ]
  },
  {
   "cell_type": "code",
   "execution_count": null,
   "id": "ea70ba94",
   "metadata": {},
   "outputs": [],
   "source": [
    "r2(np.array(test['time']),np.array(test_preds['predictions']))"
   ]
  },
  {
   "cell_type": "code",
   "execution_count": null,
   "id": "488cdee9",
   "metadata": {},
   "outputs": [],
   "source": [
    "r2(np.array(test['time']),big_pred['predictions'])"
   ]
  },
  {
   "cell_type": "markdown",
   "id": "c7ae8b66",
   "metadata": {
    "slideshow": {
     "slide_type": "slide"
    }
   },
   "source": [
    "# General conclusions\n",
    "- Not specific problem to LC/MS and RT prediction only\n",
    "- Complex behaviour, difficult to model, suitable for machine learning\n",
    "- Not enough training data available in-house\n",
    "- More datasets elsewhere, not directly transferable, but still somehow similar\n",
    "- This work describes how to callibrate and mix \"the other\" models"
   ]
  },
  {
   "cell_type": "code",
   "execution_count": null,
   "id": "ea36bbdf",
   "metadata": {},
   "outputs": [],
   "source": []
  }
 ],
 "metadata": {
  "celltoolbar": "Slideshow",
  "kernelspec": {
   "display_name": "Python 3",
   "language": "python",
   "name": "python3"
  },
  "language_info": {
   "codemirror_mode": {
    "name": "ipython",
    "version": 3
   },
   "file_extension": ".py",
   "mimetype": "text/x-python",
   "name": "python",
   "nbconvert_exporter": "python",
   "pygments_lexer": "ipython3",
   "version": "3.6.6"
  },
  "rise": {
   "autolaunch": true,
   "controls": false,
   "enable_chalkboard": true,
   "slideNumber": "c/t",
   "theme": "ljocha"
  }
 },
 "nbformat": 4,
 "nbformat_minor": 5
}
