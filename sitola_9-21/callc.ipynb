{
 "cells": [
  {
   "cell_type": "markdown",
   "id": "ece142e0",
   "metadata": {
    "slideshow": {
     "slide_type": "slide"
    }
   },
   "source": [
    "# Calibrating machine-learning models to increase the prediction accuracy of specific experiments\n",
    "### Aleš Křenek\n",
    "#### Sitola, 22.9.2021"
   ]
  },
  {
   "cell_type": "markdown",
   "id": "cc6c6973",
   "metadata": {
    "slideshow": {
     "slide_type": "slide"
    }
   },
   "source": [
    "## Two-slide quick tour to LC/MS"
   ]
  },
  {
   "cell_type": "markdown",
   "id": "c2dfe93d",
   "metadata": {
    "slideshow": {
     "slide_type": "slide"
    }
   },
   "source": [
    "## Importance of RT prediction\n",
    "### Reference dataset\n",
    "- Known compounds and measured retention time (clean, single compound sample) in our lab\n",
    "\n",
    "### Experimental data\n",
    "- Unknown compounds, list of candidates available from MS analysis -- too many\n",
    "- Measured retention time\n",
    "- The goal: by predicting the retention time, **shortlist the candidates**"
   ]
  },
  {
   "cell_type": "code",
   "execution_count": null,
   "id": "00990f3c",
   "metadata": {
    "slideshow": {
     "slide_type": "slide"
    }
   },
   "outputs": [],
   "source": [
    "# just bookkeeping\n",
    "featf='features.csv'\n",
    "import pandas as pd\n",
    "import pickle\n",
    "import matplotlib.pyplot as plt\n",
    "import numpy as np\n",
    "from os import getcwd,chdir\n",
    "from moldescriptors import get_features\n",
    "from main import make_preds\n",
    "datadir='/data'\n",
    "prefix='/opt/callc/rt/'\n",
    "modlib=prefix + 'mods_l1/'\n",
    "models=['bayesianregr','lasso']\n",
    "featn=[x.strip() for x in open(prefix+\"features/selected_features.txt\").readlines()]\n",
    "featn.remove('system')\n",
    "with open('feats_lib.csv','w'): pass"
   ]
  },
  {
   "cell_type": "markdown",
   "id": "df0cf74c",
   "metadata": {
    "slideshow": {
     "slide_type": "slide"
    }
   },
   "source": [
    "## Train a fresh model with our data"
   ]
  },
  {
   "cell_type": "code",
   "execution_count": null,
   "id": "5e3f7348",
   "metadata": {},
   "outputs": [],
   "source": [
    "from sklearn.linear_model import ARDRegression\n",
    "from scipy.stats import randint\n",
    "from scipy.stats import uniform\n",
    "import random\n",
    "random.seed(815)\n",
    "model = ARDRegression()\n",
    "params = {\n",
    "        \"n_iter\" : randint(100,1500),\n",
    "        \"alpha_1\" : uniform(1e-10,1e-2),\n",
    "        \"lambda_1\" : uniform(1e-10,1e-2),\n",
    "        \"threshold_lambda\" : randint(1,10000),\n",
    "    }"
   ]
  },
  {
   "cell_type": "markdown",
   "id": "5ebf2a81",
   "metadata": {
    "slideshow": {
     "slide_type": "slide"
    }
   },
   "source": [
    "## Formulae and features\n",
    "SMILES (Simplified Molecular Input Line Entry System) format: CN1CCCC1C2=CN=CC=C2\n",
    "<img src=\"nikotine.png\" style=\"width: 25vw;\"/>"
   ]
  },
  {
   "cell_type": "code",
   "execution_count": 129,
   "id": "4b0bf51e",
   "metadata": {},
   "outputs": [
    {
     "data": {
      "text/html": [
       "<div>\n",
       "<style scoped>\n",
       "    .dataframe tbody tr th:only-of-type {\n",
       "        vertical-align: middle;\n",
       "    }\n",
       "\n",
       "    .dataframe tbody tr th {\n",
       "        vertical-align: top;\n",
       "    }\n",
       "\n",
       "    .dataframe thead th {\n",
       "        text-align: right;\n",
       "    }\n",
       "</style>\n",
       "<table border=\"1\" class=\"dataframe\">\n",
       "  <thead>\n",
       "    <tr style=\"text-align: right;\">\n",
       "      <th></th>\n",
       "      <th>IDENTIFIER</th>\n",
       "      <th>time</th>\n",
       "      <th>MinPartialCharge</th>\n",
       "      <th>SlogP_VSA2</th>\n",
       "      <th>MaxAbsPartialCharge</th>\n",
       "      <th>SMR_VSA9</th>\n",
       "      <th>NumAliphaticHeterocycles</th>\n",
       "      <th>fr_ether</th>\n",
       "      <th>Kappa2</th>\n",
       "      <th>fr_azide</th>\n",
       "      <th>...</th>\n",
       "      <th>NumHAcceptors</th>\n",
       "      <th>fr_benzodiazepine</th>\n",
       "      <th>MinEStateIndex</th>\n",
       "      <th>fr_ketone_Topliss</th>\n",
       "      <th>fr_C_O_noCOO</th>\n",
       "      <th>fr_HOCCN</th>\n",
       "      <th>SMR_VSA4</th>\n",
       "      <th>PEOE_VSA7</th>\n",
       "      <th>fr_sulfide</th>\n",
       "      <th>NumRotatableBonds</th>\n",
       "    </tr>\n",
       "  </thead>\n",
       "  <tbody>\n",
       "    <tr>\n",
       "      <th>0</th>\n",
       "      <td>nikotine</td>\n",
       "      <td>1234</td>\n",
       "      <td>-0.299307</td>\n",
       "      <td>23.476317</td>\n",
       "      <td>0.299307</td>\n",
       "      <td>0.0</td>\n",
       "      <td>1</td>\n",
       "      <td>0</td>\n",
       "      <td>3.232934</td>\n",
       "      <td>0</td>\n",
       "      <td>...</td>\n",
       "      <td>2</td>\n",
       "      <td>0</td>\n",
       "      <td>0.609907</td>\n",
       "      <td>0</td>\n",
       "      <td>0</td>\n",
       "      <td>0</td>\n",
       "      <td>0.0</td>\n",
       "      <td>38.06389</td>\n",
       "      <td>0</td>\n",
       "      <td>1</td>\n",
       "    </tr>\n",
       "  </tbody>\n",
       "</table>\n",
       "<p>1 rows × 202 columns</p>\n",
       "</div>"
      ],
      "text/plain": [
       "  IDENTIFIER  time  MinPartialCharge  SlogP_VSA2  MaxAbsPartialCharge  \\\n",
       "0   nikotine  1234         -0.299307   23.476317             0.299307   \n",
       "\n",
       "   SMR_VSA9  NumAliphaticHeterocycles  fr_ether    Kappa2  fr_azide  \\\n",
       "0       0.0                         1         0  3.232934         0   \n",
       "\n",
       "         ...          NumHAcceptors  fr_benzodiazepine  MinEStateIndex  \\\n",
       "0        ...                      2                  0        0.609907   \n",
       "\n",
       "   fr_ketone_Topliss  fr_C_O_noCOO  fr_HOCCN  SMR_VSA4  PEOE_VSA7  fr_sulfide  \\\n",
       "0                  0             0         0       0.0   38.06389           0   \n",
       "\n",
       "   NumRotatableBonds  \n",
       "0                  1  \n",
       "\n",
       "[1 rows x 202 columns]"
      ]
     },
     "execution_count": 129,
     "metadata": {},
     "output_type": "execute_result"
    }
   ],
   "source": [
    "get_features(infile_name='nikotine.tsv',outfile_name=featf,id_index=0,mol_index=1,time_index=2)\n",
    "pd.read_csv(featf)"
   ]
  },
  {
   "cell_type": "markdown",
   "id": "0ed1b235",
   "metadata": {
    "slideshow": {
     "slide_type": "slide"
    }
   },
   "source": [
    "### Train the model on our reference dataset"
   ]
  },
  {
   "cell_type": "code",
   "execution_count": 130,
   "id": "9647f689",
   "metadata": {
    "slideshow": {
     "slide_type": "-"
    }
   },
   "outputs": [
    {
     "data": {
      "text/plain": [
       "(175, 159)"
      ]
     },
     "execution_count": 130,
     "metadata": {},
     "output_type": "execute_result"
    }
   ],
   "source": [
    "get_features(infile_name='train_positive.tsv',outfile_name=featf,id_index=3,mol_index=0,time_index=2)\n",
    "features = pd.read_csv(featf)[featn]\n",
    "features.shape"
   ]
  },
  {
   "cell_type": "code",
   "execution_count": 131,
   "id": "408018bb",
   "metadata": {
    "slideshow": {
     "slide_type": "-"
    }
   },
   "outputs": [],
   "source": [
    "from random import shuffle\n",
    "testsize=int(len(features.index)*.2)\n",
    "index=list(range(len(features.index)))\n",
    "shuffle(index)\n",
    "test=features.iloc[index[:testsize]]\n",
    "train=features.iloc[index[testsize:]]"
   ]
  },
  {
   "cell_type": "code",
   "execution_count": 157,
   "id": "cf79a3b9",
   "metadata": {
    "slideshow": {
     "slide_type": "slide"
    }
   },
   "outputs": [],
   "source": [
    "from sklearn.model_selection import KFold\n",
    "from trainl1 import train_model_l1\n",
    "cv = list(KFold(n_splits=10,shuffle=True).split(train.index))\n",
    "model,train_preds = train_model_l1(train.drop([\"time\",\"IDENTIFIER\",\"system\"],axis=1, errors=\"ignore\"),\n",
    "                                             train[\"time\"],params,model,\n",
    "                                             cv = cv,n_params=20,\n",
    "                                             n_jobs=4)"
   ]
  },
  {
   "cell_type": "code",
   "execution_count": 158,
   "id": "d9392c40",
   "metadata": {},
   "outputs": [],
   "source": [
    "def rtscatter(rt,mod):\n",
    "    plt.figure(figsize=(8,6))\n",
    "    plt.plot([200,1200],[200,1200],color='grey')\n",
    "    plt.scatter(rt,mod)\n",
    "    plt.show()"
   ]
  },
  {
   "cell_type": "code",
   "execution_count": 159,
   "id": "e7795cdb",
   "metadata": {
    "slideshow": {
     "slide_type": "slide"
    }
   },
   "outputs": [
    {
     "data": {
      "image/png": "[encoded data removed]",
      "text/plain": [
       "<Figure size 576x432 with 1 Axes>"
      ]
     },
     "metadata": {
      "needs_background": "light"
     },
     "output_type": "display_data"
    }
   ],
   "source": [
    "rtscatter(train['time'],train_preds"
   ]
  },
  {
   "cell_type": "markdown",
   "id": "dac95c09",
   "metadata": {
    "slideshow": {
     "slide_type": "slide"
    }
   },
   "source": [
    "### Apply on independent test set"
   ]
  },
  {
   "cell_type": "code",
   "execution_count": 138,
   "id": "844034b0",
   "metadata": {
    "slideshow": {
     "slide_type": "-"
    }
   },
   "outputs": [],
   "source": [
    "test_preds = model.predict(test.drop([\"time\",\"IDENTIFIER\"],axis=1))"
   ]
  },
  {
   "cell_type": "code",
   "execution_count": 160,
   "id": "61287842",
   "metadata": {},
   "outputs": [
    {
     "data": {
      "image/png": "[encoded data removed]",
      "text/plain": [
       "<Figure size 576x432 with 1 Axes>"
      ]
     },
     "metadata": {
      "needs_background": "light"
     },
     "output_type": "display_data"
    }
   ],
   "source": [
    "rtscatter(test['time'],test_preds)"
   ]
  },
  {
   "cell_type": "markdown",
   "id": "8bb6b957",
   "metadata": {
    "slideshow": {
     "slide_type": "slide"
    }
   },
   "source": [
    "### How good is the model?\n",
    "* Plot the graph and assess intuitively -- \"chi by eye\"\n",
    "* ... or do something more exact -- _goodness of fit_\n",
    "* Total sum of squares\n",
    "$$ SS_{tot}=\\sum (y_i - \\bar y)^2 $$\n",
    "* Resitual sum of squares \n",
    "$$ SS_{res} = \\sum (y_i - M(x_i))^2 $$\n",
    "* _Coeffitient of determination_\n",
    "$$ R^2 = 1 - \\frac{SS_{res}}{SS_{tot}} $$\n",
    "* Intuitively: How much variance in the data the model explains?\n",
    "  * $R^2 = 1$ -- the model is perfect\n",
    "  * $R^2 = 0$ -- the model is not better than expecting average value of $y$\n",
    "  * $R^2 < 0$ or $R^2 > 1$ -- the model is even worse than expecting the average"
   ]
  },
  {
   "cell_type": "code",
   "execution_count": 140,
   "id": "4d4d4e41",
   "metadata": {
    "slideshow": {
     "slide_type": "slide"
    }
   },
   "outputs": [],
   "source": [
    "def r2(measured,model):\n",
    "    mean = np.average(measured)\n",
    "    yres = measured-mean\n",
    "    modres = model-measured\n",
    "    ss_tot = np.sum(yres*yres)\n",
    "    ss_res = np.sum(modres*modres)\n",
    "    return 1. - ss_res/ss_tot"
   ]
  },
  {
   "cell_type": "code",
   "execution_count": 142,
   "id": "2ed75a8f",
   "metadata": {},
   "outputs": [
    {
     "data": {
      "text/plain": [
       "0.6918880248670789"
      ]
     },
     "execution_count": 142,
     "metadata": {},
     "output_type": "execute_result"
    }
   ],
   "source": [
    "r2(np.array(test['time']),test_preds)"
   ]
  },
  {
   "cell_type": "markdown",
   "id": "2ca7dd5a",
   "metadata": {},
   "source": [
    "- Not entirely bad (the model works, somehow)\n",
    "- Not overimpressive either\n",
    "- Rather meaningless in [0.5,1.0] as absolute value, good for assessing improvements"
   ]
  },
  {
   "cell_type": "markdown",
   "id": "963bad68",
   "metadata": {
    "slideshow": {
     "slide_type": "slide"
    }
   },
   "source": [
    "## Apply available models on our data\n",
    "- Someone else more lucky (more rich) could have measured bigger datasets\n",
    "- We can try reusing their models"
   ]
  },
  {
   "cell_type": "code",
   "execution_count": 143,
   "id": "63d3cf1a",
   "metadata": {},
   "outputs": [],
   "source": [
    "def apply_model(X,modname):\n",
    "    modf=modlib + modname + '42.pickle'\n",
    "    with open(modf,\"rb\") as m:\n",
    "        model = pickle.load(m,encoding='latin1')\n",
    "    preds=model.predict(X)\n",
    "    return preds"
   ]
  },
  {
   "cell_type": "code",
   "execution_count": 144,
   "id": "fa78fc08",
   "metadata": {},
   "outputs": [
    {
     "name": "stderr",
     "output_type": "stream",
     "text": [
      "/opt/conda/envs/callc/lib/python3.6/site-packages/sklearn/base.py:251: UserWarning: Trying to unpickle estimator ARDRegression from version pre-0.18 when using version 0.20.0. This might lead to breaking code or invalid results. Use at your own risk.\n",
      "  UserWarning)\n",
      "/opt/conda/envs/callc/lib/python3.6/site-packages/sklearn/base.py:251: UserWarning: Trying to unpickle estimator Lasso from version pre-0.18 when using version 0.20.0. This might lead to breaking code or invalid results. Use at your own risk.\n",
      "  UserWarning)\n"
     ]
    }
   ],
   "source": [
    "dataset='MTBLS20'\n",
    "preds={}\n",
    "for m in models:\n",
    "    preds[m] = apply_model(features.drop(['IDENTIFIER','time'],axis=1),modname=dataset+'_'+m)"
   ]
  },
  {
   "cell_type": "code",
   "execution_count": 161,
   "id": "9982e2b5",
   "metadata": {
    "slideshow": {
     "slide_type": "slide"
    }
   },
   "outputs": [
    {
     "data": {
      "image/png": "[encoded data removed]",
      "text/plain": [
       "<Figure size 576x432 with 1 Axes>"
      ]
     },
     "metadata": {
      "needs_background": "light"
     },
     "output_type": "display_data"
    }
   ],
   "source": [
    "bayes_good=(preds['bayesianregr'] < 1200) # get rid of apparent outliers\n",
    "rtscatter(np.array(features['time'])[bayes_good],preds['bayesianregr'][bayes_good])"
   ]
  },
  {
   "cell_type": "code",
   "execution_count": 163,
   "id": "26259a3d",
   "metadata": {},
   "outputs": [
    {
     "data": {
      "text/plain": [
       "0.003468672867390832"
      ]
     },
     "execution_count": 163,
     "metadata": {},
     "output_type": "execute_result"
    }
   ],
   "source": [
    "r2(np.array(features['time'])[bayes_good],preds['bayesianregr'][bayes_good])"
   ]
  },
  {
   "cell_type": "code",
   "execution_count": 164,
   "id": "f591fc8f",
   "metadata": {
    "slideshow": {
     "slide_type": "slide"
    }
   },
   "outputs": [
    {
     "data": {
      "image/png": "[encoded data removed]",
      "text/plain": [
       "<Figure size 576x432 with 1 Axes>"
      ]
     },
     "metadata": {
      "needs_background": "light"
     },
     "output_type": "display_data"
    }
   ],
   "source": [
    "lasso_good=(np.abs(preds['lasso']) < 1000)\n",
    "rtscatter(np.array(features['time'])[lasso_good],preds['lasso'][lasso_good])"
   ]
  },
  {
   "cell_type": "code",
   "execution_count": 165,
   "id": "b09f99a5",
   "metadata": {},
   "outputs": [
    {
     "data": {
      "text/plain": [
       "-4.261710291660824"
      ]
     },
     "execution_count": 165,
     "metadata": {},
     "output_type": "execute_result"
    }
   ],
   "source": [
    "r2(np.array(features['time'])[lasso_good],preds['lasso'][lasso_good])"
   ]
  },
  {
   "cell_type": "markdown",
   "id": "1b33d877",
   "metadata": {
    "slideshow": {
     "slide_type": "slide"
    }
   },
   "source": [
    "## CALLC main ideas\n",
    "- *Callibrated All Liquid Chromatography* \n",
    "- Gather $N$ existing datasets: known compounds and RT for a specific laboratory setup\n",
    "- Train $M$ ML models on them independently, yielding $M\\times N$ models altogether\n",
    "- Measure a representative small *callibration* dataset in your lab\n",
    "- Train the same ML models on the callibration dataset\n",
    "- Apply all $M\\times (N+1)$ models callibration dataset\n",
    "- Find the best *GAM (generalized additive model)* curves to transform the models outputs\n",
    "- Pick the right set of models and their linear combination with *elastic net*"
   ]
  },
  {
   "cell_type": "code",
   "execution_count": null,
   "id": "75a50f94",
   "metadata": {
    "slideshow": {
     "slide_type": "slide"
    }
   },
   "outputs": [],
   "source": []
  },
  {
   "cell_type": "code",
   "execution_count": null,
   "id": "de96bda8",
   "metadata": {},
   "outputs": [],
   "source": []
  },
  {
   "cell_type": "code",
   "execution_count": null,
   "id": "dc337c2d",
   "metadata": {},
   "outputs": [],
   "source": []
  },
  {
   "cell_type": "markdown",
   "id": "29bc0652",
   "metadata": {},
   "source": []
  },
  {
   "cell_type": "markdown",
   "id": "5e834d18",
   "metadata": {
    "slideshow": {
     "slide_type": "slide"
    }
   },
   "source": [
    "## Employ the big beast"
   ]
  },
  {
   "cell_type": "code",
   "execution_count": null,
   "id": "c2f9c6a6",
   "metadata": {},
   "outputs": [],
   "source": [
    "chdir(datadir)\n",
    "train.to_csv('reference.csv')\n",
    "test.to_csv('test.csv')\n",
    "chdir(prefix)\n",
    "make_preds(reference_infile=datadir + '/reference.csv',pred_infile=datadir + '/test.csv',\n",
    "           outfile=datadir+'/test_preds')"
   ]
  },
  {
   "cell_type": "code",
   "execution_count": null,
   "id": "5587b4aa",
   "metadata": {},
   "outputs": [],
   "source": [
    "chdir(datadir)\n",
    "big_pred=pd.read_csv('test_preds.csv')"
   ]
  },
  {
   "cell_type": "code",
   "execution_count": null,
   "id": "7141747b",
   "metadata": {},
   "outputs": [],
   "source": [
    "plt.figure(figsize=(10,8))\n",
    "plt.plot([200,1000],[200,1000],label='diagonal',color='grey')\n",
    "plt.scatter(test['time'],big_pred['predictions'],label='full model')\n",
    "plt.scatter(test['time'],test_preds,label='in house only')\n",
    "plt.legend()\n",
    "plt.show()"
   ]
  },
  {
   "cell_type": "code",
   "execution_count": null,
   "id": "6704c92c",
   "metadata": {},
   "outputs": [],
   "source": [
    "r2(np.array(test['time']),np.array(test_preds['predictions']))"
   ]
  },
  {
   "cell_type": "code",
   "execution_count": null,
   "id": "acb5f51c",
   "metadata": {},
   "outputs": [],
   "source": [
    "r2(np.array(test['time']),big_pred['predictions'])"
   ]
  },
  {
   "cell_type": "code",
   "execution_count": null,
   "id": "356ce5f2",
   "metadata": {},
   "outputs": [],
   "source": []
  },
  {
   "cell_type": "code",
   "execution_count": null,
   "id": "1fdacd13",
   "metadata": {},
   "outputs": [],
   "source": []
  }
 ],
 "metadata": {
  "celltoolbar": "Slideshow",
  "kernelspec": {
   "display_name": "Python 3",
   "language": "python",
   "name": "python3"
  },
  "language_info": {
   "codemirror_mode": {
    "name": "ipython",
    "version": 3
   },
   "file_extension": ".py",
   "mimetype": "text/x-python",
   "name": "python",
   "nbconvert_exporter": "python",
   "pygments_lexer": "ipython3",
   "version": "3.6.6"
  },
  "rise": {
   "autolaunch": true,
   "controls": false,
   "enable_chalkboard": true,
   "slideNumber": "c/t",
   "theme": "ljocha"
  }
 },
 "nbformat": 4,
 "nbformat_minor": 5
}
